{
 "cells": [
  {
   "cell_type": "code",
   "execution_count": 68,
   "id": "a9024830",
   "metadata": {},
   "outputs": [],
   "source": [
    "import requests\n",
    "from bs4 import BeautifulSoup\n",
    "\n",
    "link = 'https://books.toscrape.com/catalogue/page-1.html'"
   ]
  },
  {
   "cell_type": "code",
   "execution_count": 69,
   "id": "4d035625",
   "metadata": {},
   "outputs": [],
   "source": [
    "res = requests.get(link)\n",
    "\n",
    "soup = BeautifulSoup(res.text, 'html.parser')"
   ]
  },
  {
   "cell_type": "code",
   "execution_count": 70,
   "id": "9116e6bc",
   "metadata": {},
   "outputs": [],
   "source": [
    "data = []\n",
    "\n",
    "for sp in soup.find_all('li', class_= 'col-xs-6 col-sm-4 col-md-3 col-lg-3'):\n",
    "        \n",
    "    img_link   = 'https://books.toscrape.com/' + sp.find('img').get('src')[3:]\n",
    "    book_link  = 'https://books.toscrape.com/catalogue/' + sp.find_all('a')[-1].get('href')\n",
    "    title      = sp.find_all('a')[-1].get('title')\n",
    "    rating     = sp.find('p').get('class')[-1]\n",
    "    price      = sp.find('p',class_ = 'price_color').text[2:]\n",
    "    stock      = sp.find('p', class_ = 'instock availability').text.strip()\n",
    "    \n",
    "    \n",
    "    data.append([title, rating, price, stock, book_link, img_link])"
   ]
  },
  {
   "cell_type": "code",
   "execution_count": 73,
   "id": "205de00f",
   "metadata": {},
   "outputs": [
    {
     "data": {
      "text/plain": [
       "20"
      ]
     },
     "execution_count": 73,
     "metadata": {},
     "output_type": "execute_result"
    }
   ],
   "source": [
    "len(data)"
   ]
  },
  {
   "cell_type": "code",
   "execution_count": 74,
   "id": "57cc8618",
   "metadata": {},
   "outputs": [
    {
     "data": {
      "text/plain": [
       "['A Light in the Attic',\n",
       " 'Three',\n",
       " '51.77',\n",
       " 'In stock',\n",
       " 'https://books.toscrape.com/catalogue/a-light-in-the-attic_1000/index.html',\n",
       " 'https://books.toscrape.com/media/cache/2c/da/2cdad67c44b002e7ead0cc35693c0e8b.jpg']"
      ]
     },
     "execution_count": 74,
     "metadata": {},
     "output_type": "execute_result"
    }
   ],
   "source": [
    "data[0]"
   ]
  },
  {
   "cell_type": "code",
   "execution_count": null,
   "id": "85ec2686",
   "metadata": {},
   "outputs": [],
   "source": []
  }
 ],
 "metadata": {
  "kernelspec": {
   "display_name": "Python 3 (ipykernel)",
   "language": "python",
   "name": "python3"
  },
  "language_info": {
   "codemirror_mode": {
    "name": "ipython",
    "version": 3
   },
   "file_extension": ".py",
   "mimetype": "text/x-python",
   "name": "python",
   "nbconvert_exporter": "python",
   "pygments_lexer": "ipython3",
   "version": "3.9.7"
  }
 },
 "nbformat": 4,
 "nbformat_minor": 5
}
