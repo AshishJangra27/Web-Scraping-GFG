{
 "cells": [
  {
   "cell_type": "code",
   "execution_count": 10,
   "id": "358356b5",
   "metadata": {},
   "outputs": [],
   "source": [
    "import chromedriver_binary\n",
    "from bs4 import BeautifulSoup\n",
    "from selenium import webdriver"
   ]
  },
  {
   "cell_type": "code",
   "execution_count": 8,
   "id": "2bc0aa16",
   "metadata": {},
   "outputs": [
    {
     "name": "stderr",
     "output_type": "stream",
     "text": [
      "/var/folders/rq/lwddjvtn5n9gjw05hwrg3hp80000gn/T/ipykernel_8140/2038517041.py:1: DeprecationWarning: executable_path has been deprecated, please pass in a Service object\n",
      "  browser = webdriver.Chrome(chromedriver_binary.chromedriver_filename)\n"
     ]
    }
   ],
   "source": [
    "browser = webdriver.Chrome(chromedriver_binary.chromedriver_filename)\n",
    "\n",
    "browser.get('https://www.youtube.com/c/GeeksforGeeksVideos/videos')"
   ]
  },
  {
   "cell_type": "code",
   "execution_count": 11,
   "id": "56b99fbe",
   "metadata": {},
   "outputs": [],
   "source": [
    "soup = BeautifulSoup(browser.page_source, 'html.parser')"
   ]
  },
  {
   "cell_type": "code",
   "execution_count": 19,
   "id": "f84d2e70",
   "metadata": {},
   "outputs": [],
   "source": [
    "sp = soup.find('ytd-item-section-renderer')"
   ]
  },
  {
   "cell_type": "code",
   "execution_count": 27,
   "id": "1143fb35",
   "metadata": {},
   "outputs": [
    {
     "data": {
      "text/plain": [
       "'\\n\\n\\n\\n\\n  1:00:15\\nNow playing\\n\\n\\n\\n\\n\\n\\n\\n\\n\\n\\n\\n\\nWeb Scraping in Action | Geeks Summer Carnival 2022 | GeeksforGeeks\\n\\n\\n\\n\\n\\n\\n\\n\\n\\n\\n\\n\\n  Verified\\n\\n\\n\\n\\n1.5K viewsStreamed 1 month ago'"
      ]
     },
     "execution_count": 27,
     "metadata": {},
     "output_type": "execute_result"
    }
   ],
   "source": [
    "sp.find_all('ytd-grid-video-renderer')[25].text"
   ]
  },
  {
   "cell_type": "code",
   "execution_count": 28,
   "id": "c0afe9be",
   "metadata": {},
   "outputs": [
    {
     "data": {
      "text/plain": [
       "<ytd-grid-video-renderer class=\"style-scope ytd-grid-renderer\" lockup=\"true\"><!--css-build:shady--><div class=\"style-scope ytd-grid-video-renderer\" id=\"dismissible\"><ytd-thumbnail class=\"style-scope ytd-grid-video-renderer\" use-hovered-property=\"\"><!--css-build:shady--><a aria-hidden=\"true\" class=\"yt-simple-endpoint inline-block style-scope ytd-thumbnail\" href=\"/watch?v=SMgm_gpJyNU\" id=\"thumbnail\" rel=\"null\" tabindex=\"-1\">\n",
       "<yt-image alt=\"\" class=\"style-scope ytd-thumbnail\" disable-upgrade=\"\" ftl-eligible=\"\" hidden=\"\">\n",
       "</yt-image>\n",
       "<yt-img-shadow class=\"style-scope ytd-thumbnail no-transition\" ftl-eligible=\"\" loaded=\"\" style=\"background-color: transparent;\"><!--css-build:shady--><img alt=\"\" class=\"style-scope yt-img-shadow\" id=\"img\" src=\"https://i.ytimg.com/vi/SMgm_gpJyNU/hqdefault.jpg?sqp=-oaymwEcCNACELwBSFXyq4qpAw4IARUAAIhCGAFwAcABBg==&amp;rs=AOn4CLC6BM-rlrWfnSlTBESfithan8J9Eg\" width=\"210\"/></yt-img-shadow>\n",
       "<div class=\"style-scope ytd-thumbnail\" id=\"overlays\"><ytd-thumbnail-overlay-time-status-renderer class=\"style-scope ytd-thumbnail\" overlay-style=\"UPCOMING\"><!--css-build:shady--><yt-icon class=\"style-scope ytd-thumbnail-overlay-time-status-renderer\" disable-upgrade=\"\" hidden=\"\"></yt-icon><span aria-label=\"PREMIERE\" class=\"style-scope ytd-thumbnail-overlay-time-status-renderer\" id=\"text\">\n",
       "  PREMIERE\n",
       "</span></ytd-thumbnail-overlay-time-status-renderer><ytd-thumbnail-overlay-now-playing-renderer class=\"style-scope ytd-thumbnail\"><!--css-build:shady--><span class=\"style-scope ytd-thumbnail-overlay-now-playing-renderer\">Now playing</span>\n",
       "<ytd-thumbnail-overlay-equalizer class=\"style-scope ytd-thumbnail-overlay-now-playing-renderer\"><!--css-build:shady--><svg class=\"style-scope ytd-thumbnail-overlay-equalizer\" id=\"equalizer\" viewbox=\"0 0 55 95\" xmlns=\"http://www.w3.org/2000/svg\">\n",
       "<g class=\"style-scope ytd-thumbnail-overlay-equalizer\">\n",
       "<rect class=\"bar style-scope ytd-thumbnail-overlay-equalizer\" x=\"0\"></rect>\n",
       "<rect class=\"bar style-scope ytd-thumbnail-overlay-equalizer\" x=\"20\"></rect>\n",
       "<rect class=\"bar style-scope ytd-thumbnail-overlay-equalizer\" x=\"40\"></rect>\n",
       "</g>\n",
       "</svg>\n",
       "</ytd-thumbnail-overlay-equalizer>\n",
       "</ytd-thumbnail-overlay-now-playing-renderer></div>\n",
       "<div class=\"style-scope ytd-thumbnail\" id=\"mouseover-overlay\"></div>\n",
       "<div class=\"style-scope ytd-thumbnail\" id=\"hover-overlays\"></div>\n",
       "</a>\n",
       "</ytd-thumbnail><div class=\"style-scope ytd-grid-video-renderer\" id=\"details\"><div class=\"style-scope ytd-grid-video-renderer\" id=\"meta\"><h3 class=\"style-scope ytd-grid-video-renderer\"><ytd-badge-supported-renderer class=\"style-scope ytd-grid-video-renderer\" disable-upgrade=\"\" hidden=\"\"></ytd-badge-supported-renderer><a aria-label=\"Interview Experience @ Amazon | GeeksforGeeks by GeeksforGeeks 19 minutes No views\" class=\"yt-simple-endpoint style-scope ytd-grid-video-renderer\" href=\"/watch?v=SMgm_gpJyNU\" id=\"video-title\" title=\"Interview Experience @ Amazon | GeeksforGeeks\">Interview Experience @ Amazon | GeeksforGeeks</a></h3><div class=\"grid style-scope ytd-grid-video-renderer\" id=\"metadata-container\" meta-block=\"\"><div class=\"style-scope ytd-grid-video-renderer\" id=\"metadata\"><div class=\"style-scope ytd-grid-video-renderer\" hidden=\"\" id=\"byline-container\"><ytd-channel-name class=\"style-scope ytd-grid-video-renderer\" id=\"channel-name\"><!--css-build:shady--><div class=\"style-scope ytd-channel-name\" id=\"container\">\n",
       "<div class=\"style-scope ytd-channel-name\" id=\"text-container\">\n",
       "<yt-formatted-string class=\"style-scope ytd-channel-name\" ellipsis-truncate=\"\" id=\"text\" title=\"\"></yt-formatted-string>\n",
       "</div>\n",
       "<tp-yt-paper-tooltip class=\"style-scope ytd-channel-name\" fit-to-visible-bounds=\"\" role=\"tooltip\" tabindex=\"-1\"><!--css-build:shady--><div class=\"hidden style-scope tp-yt-paper-tooltip\" id=\"tooltip\" style-target=\"tooltip\">\n",
       "</div>\n",
       "</tp-yt-paper-tooltip>\n",
       "</div>\n",
       "<ytd-badge-supported-renderer class=\"style-scope ytd-channel-name\" system-icons=\"\"><!--css-build:shady-->\n",
       "<div aria-label=\"Verified\" class=\"badge badge-style-type-verified style-scope ytd-badge-supported-renderer\">\n",
       "<yt-icon class=\"style-scope ytd-badge-supported-renderer\"><svg class=\"style-scope yt-icon\" focusable=\"false\" preserveaspectratio=\"xMidYMid meet\" style=\"pointer-events: none; display: block; width: 100%; height: 100%;\" viewbox=\"0 0 24 24\"><g class=\"style-scope yt-icon\"><path class=\"style-scope yt-icon\" d=\"M12,2C6.5,2,2,6.5,2,12c0,5.5,4.5,10,10,10s10-4.5,10-10C22,6.5,17.5,2,12,2z M9.8,17.3l-4.2-4.1L7,11.8l2.8,2.7L17,7.4 l1.4,1.4L9.8,17.3z\"></path></g></svg><!--css-build:shady--></yt-icon>\n",
       "<span class=\"style-scope ytd-badge-supported-renderer\"></span>\n",
       "<tp-yt-paper-tooltip class=\"style-scope ytd-badge-supported-renderer\" position=\"top\" role=\"tooltip\" tabindex=\"-1\"><!--css-build:shady--><div class=\"hidden style-scope tp-yt-paper-tooltip\" id=\"tooltip\" style-target=\"tooltip\">\n",
       "  Verified\n",
       "</div>\n",
       "</tp-yt-paper-tooltip></div>\n",
       "<dom-repeat as=\"badge\" class=\"style-scope ytd-badge-supported-renderer\" id=\"repeat\"><template is=\"dom-repeat\"></template></dom-repeat>\n",
       "</ytd-badge-supported-renderer>\n",
       "</ytd-channel-name></div><div class=\"style-scope ytd-grid-video-renderer\" id=\"metadata-line\"><span class=\"style-scope ytd-grid-video-renderer\">2 waiting</span><span class=\"style-scope ytd-grid-video-renderer\">Premieres 06/05/2022, 18:00</span><dom-repeat class=\"style-scope ytd-grid-video-renderer\" strip-whitespace=\"\"><template is=\"dom-repeat\"></template></dom-repeat></div></div><div class=\"style-scope ytd-grid-video-renderer\" id=\"additional-metadata-line\"><dom-repeat class=\"style-scope ytd-grid-video-renderer\" strip-whitespace=\"\"><template is=\"dom-repeat\"></template></dom-repeat></div></div></div><ytd-badge-supported-renderer class=\"style-scope ytd-grid-video-renderer\" disable-upgrade=\"\" hidden=\"\" id=\"video-badges\"></ytd-badge-supported-renderer><div class=\"style-scope ytd-grid-video-renderer\" id=\"menu\"><ytd-menu-renderer class=\"style-scope ytd-grid-video-renderer\"><!--css-build:shady--><div class=\"top-level-buttons style-scope ytd-menu-renderer\" id=\"top-level-buttons-computed\"></div><div class=\"style-scope ytd-menu-renderer\" id=\"flexible-item-buttons\"></div><yt-icon-button class=\"dropdown-trigger style-scope ytd-menu-renderer\" id=\"button\" style-target=\"button\"><!--css-build:shady--><button aria-label=\"Action menu\" class=\"style-scope yt-icon-button\" id=\"button\"><yt-icon class=\"style-scope ytd-menu-renderer\"><svg class=\"style-scope yt-icon\" focusable=\"false\" preserveaspectratio=\"xMidYMid meet\" style=\"pointer-events: none; display: block; width: 100%; height: 100%;\" viewbox=\"0 0 24 24\"><g class=\"style-scope yt-icon\"><path class=\"style-scope yt-icon\" d=\"M12,16.5c0.83,0,1.5,0.67,1.5,1.5s-0.67,1.5-1.5,1.5s-1.5-0.67-1.5-1.5S11.17,16.5,12,16.5z M10.5,12 c0,0.83,0.67,1.5,1.5,1.5s1.5-0.67,1.5-1.5s-0.67-1.5-1.5-1.5S10.5,11.17,10.5,12z M10.5,6c0,0.83,0.67,1.5,1.5,1.5 s1.5-0.67,1.5-1.5S12.83,4.5,12,4.5S10.5,5.17,10.5,6z\"></path></g></svg><!--css-build:shady--></yt-icon></button><yt-interaction class=\"circular style-scope yt-icon-button\" id=\"interaction\"><!--css-build:shady--><div class=\"stroke style-scope yt-interaction\"></div><div class=\"fill style-scope yt-interaction\"></div></yt-interaction></yt-icon-button></ytd-menu-renderer></div></div><div class=\"style-scope ytd-grid-video-renderer\" id=\"buttons\"></div></div><div class=\"style-scope ytd-grid-video-renderer\" id=\"dismissed\"><div class=\"style-scope ytd-grid-video-renderer\" id=\"dismissed-content\"></div></div><yt-interaction class=\"extended style-scope ytd-grid-video-renderer\" id=\"interaction\"><!--css-build:shady--><div class=\"stroke style-scope yt-interaction\"></div><div class=\"fill style-scope yt-interaction\"></div></yt-interaction></ytd-grid-video-renderer>"
      ]
     },
     "execution_count": 28,
     "metadata": {},
     "output_type": "execute_result"
    }
   ],
   "source": [
    "sp.find_all('ytd-grid-video-renderer')[0]"
   ]
  },
  {
   "cell_type": "code",
   "execution_count": null,
   "id": "7519acee",
   "metadata": {},
   "outputs": [],
   "source": []
  }
 ],
 "metadata": {
  "kernelspec": {
   "display_name": "Python 3 (ipykernel)",
   "language": "python",
   "name": "python3"
  },
  "language_info": {
   "codemirror_mode": {
    "name": "ipython",
    "version": 3
   },
   "file_extension": ".py",
   "mimetype": "text/x-python",
   "name": "python",
   "nbconvert_exporter": "python",
   "pygments_lexer": "ipython3",
   "version": "3.9.7"
  }
 },
 "nbformat": 4,
 "nbformat_minor": 5
}
