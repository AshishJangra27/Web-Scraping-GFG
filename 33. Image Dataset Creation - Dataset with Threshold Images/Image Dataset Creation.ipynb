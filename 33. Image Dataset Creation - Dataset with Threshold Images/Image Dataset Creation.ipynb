{
 "cells": [
  {
   "cell_type": "code",
   "execution_count": 18,
   "id": "f47e8bab",
   "metadata": {
    "scrolled": true
   },
   "outputs": [
    {
     "data": {
      "text/html": [
       "<div>\n",
       "<style scoped>\n",
       "    .dataframe tbody tr th:only-of-type {\n",
       "        vertical-align: middle;\n",
       "    }\n",
       "\n",
       "    .dataframe tbody tr th {\n",
       "        vertical-align: top;\n",
       "    }\n",
       "\n",
       "    .dataframe thead th {\n",
       "        text-align: right;\n",
       "    }\n",
       "</style>\n",
       "<table border=\"1\" class=\"dataframe\">\n",
       "  <thead>\n",
       "    <tr style=\"text-align: right;\">\n",
       "      <th></th>\n",
       "      <th>img_link</th>\n",
       "      <th>tags</th>\n",
       "      <th>likes</th>\n",
       "      <th>comments</th>\n",
       "      <th>path</th>\n",
       "      <th>img_id</th>\n",
       "    </tr>\n",
       "  </thead>\n",
       "  <tbody>\n",
       "    <tr>\n",
       "      <th>0</th>\n",
       "      <td>https://cdn.pixabay.com/photo/2022/03/06/05/30...</td>\n",
       "      <td>Clouds, Sky, Atmosphere, Blue Sky</td>\n",
       "      <td>196</td>\n",
       "      <td>55</td>\n",
       "      <td>Imgs/A00000000.jpg</td>\n",
       "      <td>A00000000</td>\n",
       "    </tr>\n",
       "    <tr>\n",
       "      <th>1</th>\n",
       "      <td>https://cdn.pixabay.com/photo/2022/04/07/11/45...</td>\n",
       "      <td>Bird, Ornithology, Hummingbird</td>\n",
       "      <td>76</td>\n",
       "      <td>20</td>\n",
       "      <td>Imgs/A00000001.jpg</td>\n",
       "      <td>A00000001</td>\n",
       "    </tr>\n",
       "    <tr>\n",
       "      <th>2</th>\n",
       "      <td>https://cdn.pixabay.com/photo/2022/02/28/15/28...</td>\n",
       "      <td>Sea, Rainbow, Rainfall, Subtropical</td>\n",
       "      <td>282</td>\n",
       "      <td>106</td>\n",
       "      <td>Imgs/A00000002.jpg</td>\n",
       "      <td>A00000002</td>\n",
       "    </tr>\n",
       "    <tr>\n",
       "      <th>3</th>\n",
       "      <td>https://cdn.pixabay.com/photo/2022/04/04/02/52...</td>\n",
       "      <td>Cherry Blossoms, Road, Japan, Sakura</td>\n",
       "      <td>42</td>\n",
       "      <td>11</td>\n",
       "      <td>Imgs/A00000003.jpg</td>\n",
       "      <td>A00000003</td>\n",
       "    </tr>\n",
       "    <tr>\n",
       "      <th>4</th>\n",
       "      <td>https://cdn.pixabay.com/photo/2022/04/09/18/06...</td>\n",
       "      <td>Cape Marguerite, Flower, Plant</td>\n",
       "      <td>39</td>\n",
       "      <td>15</td>\n",
       "      <td>Imgs/A00000004.jpg</td>\n",
       "      <td>A00000004</td>\n",
       "    </tr>\n",
       "  </tbody>\n",
       "</table>\n",
       "</div>"
      ],
      "text/plain": [
       "                                            img_link  \\\n",
       "0  https://cdn.pixabay.com/photo/2022/03/06/05/30...   \n",
       "1  https://cdn.pixabay.com/photo/2022/04/07/11/45...   \n",
       "2  https://cdn.pixabay.com/photo/2022/02/28/15/28...   \n",
       "3  https://cdn.pixabay.com/photo/2022/04/04/02/52...   \n",
       "4  https://cdn.pixabay.com/photo/2022/04/09/18/06...   \n",
       "\n",
       "                                   tags  likes  comments                path  \\\n",
       "0     Clouds, Sky, Atmosphere, Blue Sky    196        55  Imgs/A00000000.jpg   \n",
       "1        Bird, Ornithology, Hummingbird     76        20  Imgs/A00000001.jpg   \n",
       "2   Sea, Rainbow, Rainfall, Subtropical    282       106  Imgs/A00000002.jpg   \n",
       "3  Cherry Blossoms, Road, Japan, Sakura     42        11  Imgs/A00000003.jpg   \n",
       "4        Cape Marguerite, Flower, Plant     39        15  Imgs/A00000004.jpg   \n",
       "\n",
       "      img_id  \n",
       "0  A00000000  \n",
       "1  A00000001  \n",
       "2  A00000002  \n",
       "3  A00000003  \n",
       "4  A00000004  "
      ]
     },
     "execution_count": 18,
     "metadata": {},
     "output_type": "execute_result"
    }
   ],
   "source": [
    "import os\n",
    "import pandas as pd\n",
    "from tqdm import tqdm\n",
    "from shutil import copyfile as copy\n",
    "\n",
    "df = pd.read_csv('final.csv')\n",
    "df.head()"
   ]
  },
  {
   "cell_type": "markdown",
   "id": "61a20124",
   "metadata": {},
   "source": [
    "### 1. Remove Unnecessary Columns"
   ]
  },
  {
   "cell_type": "code",
   "execution_count": 20,
   "id": "10c078bd",
   "metadata": {},
   "outputs": [
    {
     "data": {
      "text/html": [
       "<div>\n",
       "<style scoped>\n",
       "    .dataframe tbody tr th:only-of-type {\n",
       "        vertical-align: middle;\n",
       "    }\n",
       "\n",
       "    .dataframe tbody tr th {\n",
       "        vertical-align: top;\n",
       "    }\n",
       "\n",
       "    .dataframe thead th {\n",
       "        text-align: right;\n",
       "    }\n",
       "</style>\n",
       "<table border=\"1\" class=\"dataframe\">\n",
       "  <thead>\n",
       "    <tr style=\"text-align: right;\">\n",
       "      <th></th>\n",
       "      <th>tags</th>\n",
       "      <th>path</th>\n",
       "    </tr>\n",
       "  </thead>\n",
       "  <tbody>\n",
       "    <tr>\n",
       "      <th>0</th>\n",
       "      <td>Clouds, Sky, Atmosphere, Blue Sky</td>\n",
       "      <td>Imgs/A00000000.jpg</td>\n",
       "    </tr>\n",
       "    <tr>\n",
       "      <th>1</th>\n",
       "      <td>Bird, Ornithology, Hummingbird</td>\n",
       "      <td>Imgs/A00000001.jpg</td>\n",
       "    </tr>\n",
       "    <tr>\n",
       "      <th>2</th>\n",
       "      <td>Sea, Rainbow, Rainfall, Subtropical</td>\n",
       "      <td>Imgs/A00000002.jpg</td>\n",
       "    </tr>\n",
       "    <tr>\n",
       "      <th>3</th>\n",
       "      <td>Cherry Blossoms, Road, Japan, Sakura</td>\n",
       "      <td>Imgs/A00000003.jpg</td>\n",
       "    </tr>\n",
       "    <tr>\n",
       "      <th>4</th>\n",
       "      <td>Cape Marguerite, Flower, Plant</td>\n",
       "      <td>Imgs/A00000004.jpg</td>\n",
       "    </tr>\n",
       "  </tbody>\n",
       "</table>\n",
       "</div>"
      ],
      "text/plain": [
       "                                   tags                path\n",
       "0     Clouds, Sky, Atmosphere, Blue Sky  Imgs/A00000000.jpg\n",
       "1        Bird, Ornithology, Hummingbird  Imgs/A00000001.jpg\n",
       "2   Sea, Rainbow, Rainfall, Subtropical  Imgs/A00000002.jpg\n",
       "3  Cherry Blossoms, Road, Japan, Sakura  Imgs/A00000003.jpg\n",
       "4        Cape Marguerite, Flower, Plant  Imgs/A00000004.jpg"
      ]
     },
     "execution_count": 20,
     "metadata": {},
     "output_type": "execute_result"
    }
   ],
   "source": [
    "del df['img_link']\n",
    "del df['img_id']\n",
    "del df['likes']\n",
    "del df['comments']\n",
    "\n",
    "df.head()"
   ]
  },
  {
   "cell_type": "markdown",
   "id": "8c88fcf5",
   "metadata": {},
   "source": [
    "### 2. Finding all the tags"
   ]
  },
  {
   "cell_type": "code",
   "execution_count": 42,
   "id": "d03b397a",
   "metadata": {},
   "outputs": [],
   "source": [
    "t = []\n",
    "\n",
    "for tags in df['tags']:\n",
    "    \n",
    "    t += [tag.strip() for tag in tags.split(',')]\n",
    "\n",
    "tags = list(set(t))"
   ]
  },
  {
   "cell_type": "markdown",
   "id": "a76e1b97",
   "metadata": {},
   "source": [
    "### 3. Creating Folders for each Tag"
   ]
  },
  {
   "cell_type": "code",
   "execution_count": 68,
   "id": "5e15750c",
   "metadata": {},
   "outputs": [
    {
     "name": "stderr",
     "output_type": "stream",
     "text": [
      "100%|██████████████████████████████████| 64096/64096 [00:02<00:00, 26828.99it/s]\n"
     ]
    }
   ],
   "source": [
    "for tag in tqdm(tags):\n",
    "    \n",
    "    try:\n",
    "        os.mkdir('Dataset/' + tag)\n",
    "    except:\n",
    "        pass"
   ]
  },
  {
   "cell_type": "markdown",
   "id": "fb1f2173",
   "metadata": {},
   "source": [
    "### 4. Saving Images in Specific Folders"
   ]
  },
  {
   "cell_type": "code",
   "execution_count": 105,
   "id": "85993615",
   "metadata": {
    "scrolled": true
   },
   "outputs": [
    {
     "name": "stderr",
     "output_type": "stream",
     "text": [
      "100%|██████████████████████████████████| 205866/205866 [06:58<00:00, 492.38it/s]\n"
     ]
    }
   ],
   "source": [
    "error = 0\n",
    "\n",
    "for data in tqdm(df.values):\n",
    "    \n",
    "    tags = data[0]\n",
    "    tags = ['Dataset/' + tag.strip() + '/' for tag in tags.split(',')]\n",
    "    \n",
    "    src = data[1]\n",
    "    \n",
    "    for i in tags:\n",
    "        \n",
    "        dst = i + src.split('/')[-1]\n",
    "        \n",
    "        try:\n",
    "            copy(src, dst)\n",
    "        except:\n",
    "            error += 1"
   ]
  },
  {
   "cell_type": "markdown",
   "id": "7de99750",
   "metadata": {},
   "source": [
    "### 5. Checking Number of Folders"
   ]
  },
  {
   "cell_type": "code",
   "execution_count": 110,
   "id": "417e0edc",
   "metadata": {},
   "outputs": [
    {
     "name": "stdout",
     "output_type": "stream",
     "text": [
      "64010\n"
     ]
    }
   ],
   "source": [
    "folders = os.listdir('Dataset')\n",
    "\n",
    "print(len(folders))"
   ]
  },
  {
   "cell_type": "markdown",
   "id": "60399877",
   "metadata": {},
   "source": [
    "### 6. Checking number of Images in Each Folder"
   ]
  },
  {
   "cell_type": "code",
   "execution_count": 125,
   "id": "6a21eb6f",
   "metadata": {},
   "outputs": [
    {
     "name": "stderr",
     "output_type": "stream",
     "text": [
      "100%|██████████████████████████████████| 64010/64010 [00:01<00:00, 33199.12it/s]\n"
     ]
    }
   ],
   "source": [
    "folder_ = []\n",
    "freq    = []\n",
    "\n",
    "for folder in tqdm(folders):\n",
    "    \n",
    "    try:\n",
    "        freq.append(len(os.listdir('Dataset/' + folder)))\n",
    "        folder_.append(folder)\n",
    "\n",
    "    except:\n",
    "        pass"
   ]
  },
  {
   "cell_type": "markdown",
   "id": "aa4f10bd",
   "metadata": {},
   "source": [
    "### 7. Top 10 Folders with most number of Images"
   ]
  },
  {
   "cell_type": "code",
   "execution_count": 132,
   "id": "29cc7db1",
   "metadata": {
    "scrolled": true
   },
   "outputs": [
    {
     "data": {
      "text/html": [
       "<div>\n",
       "<style scoped>\n",
       "    .dataframe tbody tr th:only-of-type {\n",
       "        vertical-align: middle;\n",
       "    }\n",
       "\n",
       "    .dataframe tbody tr th {\n",
       "        vertical-align: top;\n",
       "    }\n",
       "\n",
       "    .dataframe thead th {\n",
       "        text-align: right;\n",
       "    }\n",
       "</style>\n",
       "<table border=\"1\" class=\"dataframe\">\n",
       "  <thead>\n",
       "    <tr style=\"text-align: right;\">\n",
       "      <th></th>\n",
       "      <th>folder</th>\n",
       "      <th>freq</th>\n",
       "    </tr>\n",
       "  </thead>\n",
       "  <tbody>\n",
       "    <tr>\n",
       "      <th>29522</th>\n",
       "      <td>Nature</td>\n",
       "      <td>29598</td>\n",
       "    </tr>\n",
       "    <tr>\n",
       "      <th>18068</th>\n",
       "      <td>Flower</td>\n",
       "      <td>19423</td>\n",
       "    </tr>\n",
       "    <tr>\n",
       "      <th>46010</th>\n",
       "      <td>Animal</td>\n",
       "      <td>10040</td>\n",
       "    </tr>\n",
       "    <tr>\n",
       "      <th>14111</th>\n",
       "      <td>Plant</td>\n",
       "      <td>8514</td>\n",
       "    </tr>\n",
       "    <tr>\n",
       "      <th>38982</th>\n",
       "      <td>Bird</td>\n",
       "      <td>7894</td>\n",
       "    </tr>\n",
       "    <tr>\n",
       "      <th>50386</th>\n",
       "      <td>Landscape</td>\n",
       "      <td>7539</td>\n",
       "    </tr>\n",
       "    <tr>\n",
       "      <th>13600</th>\n",
       "      <td>Water</td>\n",
       "      <td>7305</td>\n",
       "    </tr>\n",
       "    <tr>\n",
       "      <th>22399</th>\n",
       "      <td>Flowers</td>\n",
       "      <td>6868</td>\n",
       "    </tr>\n",
       "    <tr>\n",
       "      <th>55534</th>\n",
       "      <td>Sea</td>\n",
       "      <td>6431</td>\n",
       "    </tr>\n",
       "    <tr>\n",
       "      <th>29188</th>\n",
       "      <td>Bloom</td>\n",
       "      <td>6194</td>\n",
       "    </tr>\n",
       "  </tbody>\n",
       "</table>\n",
       "</div>"
      ],
      "text/plain": [
       "          folder   freq\n",
       "29522     Nature  29598\n",
       "18068     Flower  19423\n",
       "46010     Animal  10040\n",
       "14111      Plant   8514\n",
       "38982       Bird   7894\n",
       "50386  Landscape   7539\n",
       "13600      Water   7305\n",
       "22399    Flowers   6868\n",
       "55534        Sea   6431\n",
       "29188      Bloom   6194"
      ]
     },
     "execution_count": 132,
     "metadata": {},
     "output_type": "execute_result"
    }
   ],
   "source": [
    "df_ = pd.DataFrame()\n",
    "\n",
    "df_['folder'] = folder_\n",
    "df_['freq']   = freq\n",
    "\n",
    "df_.sort_values(by = 'freq', ascending = False).head(10)"
   ]
  },
  {
   "cell_type": "markdown",
   "id": "2f5b75e2",
   "metadata": {},
   "source": [
    "### 8. Top 10 Folders with least number of Images"
   ]
  },
  {
   "cell_type": "code",
   "execution_count": 134,
   "id": "7b194451",
   "metadata": {
    "scrolled": false
   },
   "outputs": [
    {
     "data": {
      "text/html": [
       "<div>\n",
       "<style scoped>\n",
       "    .dataframe tbody tr th:only-of-type {\n",
       "        vertical-align: middle;\n",
       "    }\n",
       "\n",
       "    .dataframe tbody tr th {\n",
       "        vertical-align: top;\n",
       "    }\n",
       "\n",
       "    .dataframe thead th {\n",
       "        text-align: right;\n",
       "    }\n",
       "</style>\n",
       "<table border=\"1\" class=\"dataframe\">\n",
       "  <thead>\n",
       "    <tr style=\"text-align: right;\">\n",
       "      <th></th>\n",
       "      <th>folder</th>\n",
       "      <th>freq</th>\n",
       "    </tr>\n",
       "  </thead>\n",
       "  <tbody>\n",
       "    <tr>\n",
       "      <th>31999</th>\n",
       "      <td>Karroo</td>\n",
       "      <td>1</td>\n",
       "    </tr>\n",
       "    <tr>\n",
       "      <th>37018</th>\n",
       "      <td>Snow Woman</td>\n",
       "      <td>1</td>\n",
       "    </tr>\n",
       "    <tr>\n",
       "      <th>37019</th>\n",
       "      <td>Don'T Like</td>\n",
       "      <td>1</td>\n",
       "    </tr>\n",
       "    <tr>\n",
       "      <th>37021</th>\n",
       "      <td>Arboreal</td>\n",
       "      <td>1</td>\n",
       "    </tr>\n",
       "    <tr>\n",
       "      <th>37023</th>\n",
       "      <td>Nandine</td>\n",
       "      <td>1</td>\n",
       "    </tr>\n",
       "    <tr>\n",
       "      <th>37024</th>\n",
       "      <td>Girl With Mobile</td>\n",
       "      <td>1</td>\n",
       "    </tr>\n",
       "    <tr>\n",
       "      <th>37025</th>\n",
       "      <td>Topkapä± Palace</td>\n",
       "      <td>1</td>\n",
       "    </tr>\n",
       "    <tr>\n",
       "      <th>37027</th>\n",
       "      <td>Ekh</td>\n",
       "      <td>1</td>\n",
       "    </tr>\n",
       "    <tr>\n",
       "      <th>37028</th>\n",
       "      <td>Fischer-Art In Sebnitz</td>\n",
       "      <td>1</td>\n",
       "    </tr>\n",
       "    <tr>\n",
       "      <th>37029</th>\n",
       "      <td>Five Grain Rice</td>\n",
       "      <td>1</td>\n",
       "    </tr>\n",
       "  </tbody>\n",
       "</table>\n",
       "</div>"
      ],
      "text/plain": [
       "                       folder  freq\n",
       "31999                  Karroo     1\n",
       "37018              Snow Woman     1\n",
       "37019              Don'T Like     1\n",
       "37021                Arboreal     1\n",
       "37023                 Nandine     1\n",
       "37024        Girl With Mobile     1\n",
       "37025         Topkapä± Palace     1\n",
       "37027                     Ekh     1\n",
       "37028  Fischer-Art In Sebnitz     1\n",
       "37029         Five Grain Rice     1"
      ]
     },
     "execution_count": 134,
     "metadata": {},
     "output_type": "execute_result"
    }
   ],
   "source": [
    "df_.sort_values(by = 'freq', ascending = True).head(10)"
   ]
  },
  {
   "cell_type": "markdown",
   "id": "f22b7f96",
   "metadata": {},
   "source": [
    "### 9. How many folders are having images more than 50"
   ]
  },
  {
   "cell_type": "code",
   "execution_count": 140,
   "id": "1bfc6765",
   "metadata": {},
   "outputs": [
    {
     "data": {
      "text/html": [
       "<div>\n",
       "<style scoped>\n",
       "    .dataframe tbody tr th:only-of-type {\n",
       "        vertical-align: middle;\n",
       "    }\n",
       "\n",
       "    .dataframe tbody tr th {\n",
       "        vertical-align: top;\n",
       "    }\n",
       "\n",
       "    .dataframe thead th {\n",
       "        text-align: right;\n",
       "    }\n",
       "</style>\n",
       "<table border=\"1\" class=\"dataframe\">\n",
       "  <thead>\n",
       "    <tr style=\"text-align: right;\">\n",
       "      <th></th>\n",
       "      <th>folder</th>\n",
       "      <th>freq</th>\n",
       "    </tr>\n",
       "  </thead>\n",
       "  <tbody>\n",
       "    <tr>\n",
       "      <th>36</th>\n",
       "      <td>Usa</td>\n",
       "      <td>444</td>\n",
       "    </tr>\n",
       "    <tr>\n",
       "      <th>55</th>\n",
       "      <td>Dried</td>\n",
       "      <td>95</td>\n",
       "    </tr>\n",
       "    <tr>\n",
       "      <th>61</th>\n",
       "      <td>Volkswagen</td>\n",
       "      <td>53</td>\n",
       "    </tr>\n",
       "    <tr>\n",
       "      <th>88</th>\n",
       "      <td>Hunter</td>\n",
       "      <td>54</td>\n",
       "    </tr>\n",
       "    <tr>\n",
       "      <th>109</th>\n",
       "      <td>Porsche</td>\n",
       "      <td>52</td>\n",
       "    </tr>\n",
       "    <tr>\n",
       "      <th>...</th>\n",
       "      <td>...</td>\n",
       "      <td>...</td>\n",
       "    </tr>\n",
       "    <tr>\n",
       "      <th>63909</th>\n",
       "      <td>Frogs</td>\n",
       "      <td>69</td>\n",
       "    </tr>\n",
       "    <tr>\n",
       "      <th>63923</th>\n",
       "      <td>Flow</td>\n",
       "      <td>551</td>\n",
       "    </tr>\n",
       "    <tr>\n",
       "      <th>63944</th>\n",
       "      <td>Poultry</td>\n",
       "      <td>332</td>\n",
       "    </tr>\n",
       "    <tr>\n",
       "      <th>63967</th>\n",
       "      <td>Police</td>\n",
       "      <td>61</td>\n",
       "    </tr>\n",
       "    <tr>\n",
       "      <th>63972</th>\n",
       "      <td>Exotic</td>\n",
       "      <td>264</td>\n",
       "    </tr>\n",
       "  </tbody>\n",
       "</table>\n",
       "<p>1972 rows × 2 columns</p>\n",
       "</div>"
      ],
      "text/plain": [
       "           folder  freq\n",
       "36            Usa   444\n",
       "55          Dried    95\n",
       "61     Volkswagen    53\n",
       "88         Hunter    54\n",
       "109       Porsche    52\n",
       "...           ...   ...\n",
       "63909       Frogs    69\n",
       "63923        Flow   551\n",
       "63944     Poultry   332\n",
       "63967      Police    61\n",
       "63972      Exotic   264\n",
       "\n",
       "[1972 rows x 2 columns]"
      ]
     },
     "execution_count": 140,
     "metadata": {},
     "output_type": "execute_result"
    }
   ],
   "source": [
    "df_[df_['freq'] >= 50]"
   ]
  },
  {
   "cell_type": "markdown",
   "id": "ab1f88dd",
   "metadata": {},
   "source": [
    "### 10. Removing the Folders with less than 50 Images"
   ]
  },
  {
   "cell_type": "code",
   "execution_count": 156,
   "id": "1735ff7b",
   "metadata": {
    "scrolled": true
   },
   "outputs": [
    {
     "name": "stderr",
     "output_type": "stream",
     "text": [
      "100%|██████████████████████████████████| 62028/62028 [00:05<00:00, 10766.93it/s]\n"
     ]
    }
   ],
   "source": [
    "for i in tqdm(df_[df_['freq'] < 50]['folder']):\n",
    "    \n",
    "    \n",
    "    src = 'Dataset/' + i\n",
    "    dst = 'Temp/' + i\n",
    "    \n",
    "    shutil.move(src, dst)    "
   ]
  },
  {
   "cell_type": "code",
   "execution_count": 163,
   "id": "76b0b245",
   "metadata": {},
   "outputs": [],
   "source": [
    "df = pd.read_csv('final.csv')\n",
    "\n",
    "del df['img_link']\n",
    "del df['img_id']\n",
    "del df['likes']\n",
    "del df['comments']\n",
    "\n",
    "df.to_csv('final.csv', index = False)"
   ]
  }
 ],
 "metadata": {
  "kernelspec": {
   "display_name": "Python 3 (ipykernel)",
   "language": "python",
   "name": "python3"
  },
  "language_info": {
   "codemirror_mode": {
    "name": "ipython",
    "version": 3
   },
   "file_extension": ".py",
   "mimetype": "text/x-python",
   "name": "python",
   "nbconvert_exporter": "python",
   "pygments_lexer": "ipython3",
   "version": "3.9.7"
  }
 },
 "nbformat": 4,
 "nbformat_minor": 5
}
