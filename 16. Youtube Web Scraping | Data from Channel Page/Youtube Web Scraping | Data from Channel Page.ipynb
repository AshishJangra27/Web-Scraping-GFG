{
 "cells": [
  {
   "cell_type": "code",
   "execution_count": 112,
   "id": "9ca8db1f",
   "metadata": {},
   "outputs": [],
   "source": [
    "import numpy as np\n",
    "import pandas as pd\n",
    "\n",
    "\n",
    "import chromedriver_binary\n",
    "from bs4 import BeautifulSoup\n",
    "from selenium import webdriver"
   ]
  },
  {
   "cell_type": "code",
   "execution_count": 63,
   "id": "d986de4c",
   "metadata": {},
   "outputs": [
    {
     "name": "stderr",
     "output_type": "stream",
     "text": [
      "/var/folders/rq/lwddjvtn5n9gjw05hwrg3hp80000gn/T/ipykernel_8494/2038517041.py:1: DeprecationWarning: executable_path has been deprecated, please pass in a Service object\n",
      "  browser = webdriver.Chrome(chromedriver_binary.chromedriver_filename)\n"
     ]
    }
   ],
   "source": [
    "browser = webdriver.Chrome(chromedriver_binary.chromedriver_filename)\n",
    "\n",
    "browser.get('https://www.youtube.com/c/GeeksforGeeksVideos/videos')"
   ]
  },
  {
   "cell_type": "code",
   "execution_count": 113,
   "id": "496acb6c",
   "metadata": {},
   "outputs": [],
   "source": [
    "soup = BeautifulSoup(browser.page_source, 'html.parser')"
   ]
  },
  {
   "cell_type": "code",
   "execution_count": 114,
   "id": "fb5f21d6",
   "metadata": {},
   "outputs": [],
   "source": [
    "data = []\n",
    "\n",
    "for sp in soup.find_all('ytd-grid-video-renderer'):\n",
    "    \n",
    "    title      = sp.find('a', class_ = 'yt-simple-endpoint style-scope ytd-grid-video-renderer').text\n",
    "    video_link = sp.find('a', class_ = 'yt-simple-endpoint style-scope ytd-grid-video-renderer').get('href')\n",
    "\n",
    "    try:\n",
    "        views  = sp.find_all('span', class_ = 'style-scope ytd-grid-video-renderer')[0].text\n",
    "    except:\n",
    "        views  = np.nan\n",
    "    try:\n",
    "        date_time  = sp.find_all('span', class_ = 'style-scope ytd-grid-video-renderer')[1].text\n",
    "    except:\n",
    "        date_time  = np.nan\n",
    "        \n",
    "    try:\n",
    "        thumbnail_link = sp.find('img').get('src').split('?')[0]\n",
    "    except:\n",
    "        thumbnail_link = np.nan\n",
    "\n",
    "        \n",
    "    data.append([title, views, date_time, video_link, thumbnail_link])"
   ]
  },
  {
   "cell_type": "code",
   "execution_count": 115,
   "id": "bae117d0",
   "metadata": {},
   "outputs": [
    {
     "data": {
      "text/plain": [
       "2105"
      ]
     },
     "execution_count": 115,
     "metadata": {},
     "output_type": "execute_result"
    }
   ],
   "source": [
    "len(data)"
   ]
  },
  {
   "cell_type": "code",
   "execution_count": 116,
   "id": "cf81a024",
   "metadata": {},
   "outputs": [
    {
     "data": {
      "text/plain": [
       "['Interview Experience @ Amazon | GeeksforGeeks',\n",
       " '38 watching',\n",
       " nan,\n",
       " '/watch?v=SMgm_gpJyNU',\n",
       " 'https://i.ytimg.com/vi/SMgm_gpJyNU/hqdefault.jpg']"
      ]
     },
     "execution_count": 116,
     "metadata": {},
     "output_type": "execute_result"
    }
   ],
   "source": [
    "data[0]"
   ]
  },
  {
   "cell_type": "code",
   "execution_count": 117,
   "id": "3b09726a",
   "metadata": {},
   "outputs": [],
   "source": [
    "df = pd.DataFrame(data, columns = ['title','views','date_time','video_link','thumbnail_link'])"
   ]
  },
  {
   "cell_type": "code",
   "execution_count": 118,
   "id": "532c1739",
   "metadata": {},
   "outputs": [
    {
     "data": {
      "text/html": [
       "<div>\n",
       "<style scoped>\n",
       "    .dataframe tbody tr th:only-of-type {\n",
       "        vertical-align: middle;\n",
       "    }\n",
       "\n",
       "    .dataframe tbody tr th {\n",
       "        vertical-align: top;\n",
       "    }\n",
       "\n",
       "    .dataframe thead th {\n",
       "        text-align: right;\n",
       "    }\n",
       "</style>\n",
       "<table border=\"1\" class=\"dataframe\">\n",
       "  <thead>\n",
       "    <tr style=\"text-align: right;\">\n",
       "      <th></th>\n",
       "      <th>title</th>\n",
       "      <th>views</th>\n",
       "      <th>date_time</th>\n",
       "      <th>video_link</th>\n",
       "      <th>thumbnail_link</th>\n",
       "    </tr>\n",
       "  </thead>\n",
       "  <tbody>\n",
       "    <tr>\n",
       "      <th>0</th>\n",
       "      <td>Interview Experience @ Amazon | GeeksforGeeks</td>\n",
       "      <td>38 watching</td>\n",
       "      <td>NaN</td>\n",
       "      <td>/watch?v=SMgm_gpJyNU</td>\n",
       "      <td>https://i.ytimg.com/vi/SMgm_gpJyNU/hqdefault.jpg</td>\n",
       "    </tr>\n",
       "    <tr>\n",
       "      <th>1</th>\n",
       "      <td>Live Mock DSA</td>\n",
       "      <td>2.2K views</td>\n",
       "      <td>Streamed 1 day ago</td>\n",
       "      <td>/watch?v=mwqKJz7K03k</td>\n",
       "      <td>https://i.ytimg.com/vi/mwqKJz7K03k/hqdefault.jpg</td>\n",
       "    </tr>\n",
       "    <tr>\n",
       "      <th>2</th>\n",
       "      <td>Interview Experience at Google | Tech Dose</td>\n",
       "      <td>5.2K views</td>\n",
       "      <td>Streamed 4 days ago</td>\n",
       "      <td>/watch?v=V23iPYIQCvc</td>\n",
       "      <td>https://i.ytimg.com/vi/V23iPYIQCvc/hqdefault.jpg</td>\n",
       "    </tr>\n",
       "    <tr>\n",
       "      <th>3</th>\n",
       "      <td>Life Is Unfair Ft. Shonty badmash | LIVE Disco...</td>\n",
       "      <td>1.5K views</td>\n",
       "      <td>9 days ago</td>\n",
       "      <td>/watch?v=49MRLvZaG3s</td>\n",
       "      <td>https://i.ytimg.com/vi/49MRLvZaG3s/hqdefault.jpg</td>\n",
       "    </tr>\n",
       "    <tr>\n",
       "      <th>4</th>\n",
       "      <td>Journey from JIIT to Adobe</td>\n",
       "      <td>1K views</td>\n",
       "      <td>9 days ago</td>\n",
       "      <td>/watch?v=9CswKbEqj5A</td>\n",
       "      <td>https://i.ytimg.com/vi/9CswKbEqj5A/hqdefault.jpg</td>\n",
       "    </tr>\n",
       "    <tr>\n",
       "      <th>...</th>\n",
       "      <td>...</td>\n",
       "      <td>...</td>\n",
       "      <td>...</td>\n",
       "      <td>...</td>\n",
       "      <td>...</td>\n",
       "    </tr>\n",
       "    <tr>\n",
       "      <th>2100</th>\n",
       "      <td>Length of shortest chain to reach a target wor...</td>\n",
       "      <td>37K views</td>\n",
       "      <td>6 years ago</td>\n",
       "      <td>/watch?v=6pIC20wCm20</td>\n",
       "      <td>https://i.ytimg.com/vi/6pIC20wCm20/hqdefault.jpg</td>\n",
       "    </tr>\n",
       "    <tr>\n",
       "      <th>2101</th>\n",
       "      <td>Binary Search | GeeksQuiz</td>\n",
       "      <td>182K views</td>\n",
       "      <td>6 years ago</td>\n",
       "      <td>/watch?v=T2sFYY-fT5o</td>\n",
       "      <td>https://i.ytimg.com/vi/T2sFYY-fT5o/hqdefault.jpg</td>\n",
       "    </tr>\n",
       "    <tr>\n",
       "      <th>2102</th>\n",
       "      <td>Number of Triangles in an Undirected Graph | G...</td>\n",
       "      <td>16K views</td>\n",
       "      <td>6 years ago</td>\n",
       "      <td>/watch?v=ChdNz1Ui1uc</td>\n",
       "      <td>https://i.ytimg.com/vi/ChdNz1Ui1uc/hqdefault.jpg</td>\n",
       "    </tr>\n",
       "    <tr>\n",
       "      <th>2103</th>\n",
       "      <td>Write a program to print all permutations of a...</td>\n",
       "      <td>449K views</td>\n",
       "      <td>6 years ago</td>\n",
       "      <td>/watch?v=AfxHGNRtFac</td>\n",
       "      <td>https://i.ytimg.com/vi/AfxHGNRtFac/hqdefault.jpg</td>\n",
       "    </tr>\n",
       "    <tr>\n",
       "      <th>2104</th>\n",
       "      <td>Longest Span with same Sum in two Binary array...</td>\n",
       "      <td>241K views</td>\n",
       "      <td>6 years ago</td>\n",
       "      <td>/watch?v=xtfj4-r_Ahs</td>\n",
       "      <td>https://i.ytimg.com/vi/xtfj4-r_Ahs/hqdefault.jpg</td>\n",
       "    </tr>\n",
       "  </tbody>\n",
       "</table>\n",
       "<p>2105 rows × 5 columns</p>\n",
       "</div>"
      ],
      "text/plain": [
       "                                                  title        views  \\\n",
       "0         Interview Experience @ Amazon | GeeksforGeeks  38 watching   \n",
       "1                                         Live Mock DSA   2.2K views   \n",
       "2            Interview Experience at Google | Tech Dose   5.2K views   \n",
       "3     Life Is Unfair Ft. Shonty badmash | LIVE Disco...   1.5K views   \n",
       "4                            Journey from JIIT to Adobe     1K views   \n",
       "...                                                 ...          ...   \n",
       "2100  Length of shortest chain to reach a target wor...    37K views   \n",
       "2101                          Binary Search | GeeksQuiz   182K views   \n",
       "2102  Number of Triangles in an Undirected Graph | G...    16K views   \n",
       "2103  Write a program to print all permutations of a...   449K views   \n",
       "2104  Longest Span with same Sum in two Binary array...   241K views   \n",
       "\n",
       "                date_time            video_link  \\\n",
       "0                     NaN  /watch?v=SMgm_gpJyNU   \n",
       "1      Streamed 1 day ago  /watch?v=mwqKJz7K03k   \n",
       "2     Streamed 4 days ago  /watch?v=V23iPYIQCvc   \n",
       "3              9 days ago  /watch?v=49MRLvZaG3s   \n",
       "4              9 days ago  /watch?v=9CswKbEqj5A   \n",
       "...                   ...                   ...   \n",
       "2100          6 years ago  /watch?v=6pIC20wCm20   \n",
       "2101          6 years ago  /watch?v=T2sFYY-fT5o   \n",
       "2102          6 years ago  /watch?v=ChdNz1Ui1uc   \n",
       "2103          6 years ago  /watch?v=AfxHGNRtFac   \n",
       "2104          6 years ago  /watch?v=xtfj4-r_Ahs   \n",
       "\n",
       "                                        thumbnail_link  \n",
       "0     https://i.ytimg.com/vi/SMgm_gpJyNU/hqdefault.jpg  \n",
       "1     https://i.ytimg.com/vi/mwqKJz7K03k/hqdefault.jpg  \n",
       "2     https://i.ytimg.com/vi/V23iPYIQCvc/hqdefault.jpg  \n",
       "3     https://i.ytimg.com/vi/49MRLvZaG3s/hqdefault.jpg  \n",
       "4     https://i.ytimg.com/vi/9CswKbEqj5A/hqdefault.jpg  \n",
       "...                                                ...  \n",
       "2100  https://i.ytimg.com/vi/6pIC20wCm20/hqdefault.jpg  \n",
       "2101  https://i.ytimg.com/vi/T2sFYY-fT5o/hqdefault.jpg  \n",
       "2102  https://i.ytimg.com/vi/ChdNz1Ui1uc/hqdefault.jpg  \n",
       "2103  https://i.ytimg.com/vi/AfxHGNRtFac/hqdefault.jpg  \n",
       "2104  https://i.ytimg.com/vi/xtfj4-r_Ahs/hqdefault.jpg  \n",
       "\n",
       "[2105 rows x 5 columns]"
      ]
     },
     "execution_count": 118,
     "metadata": {},
     "output_type": "execute_result"
    }
   ],
   "source": [
    "df"
   ]
  },
  {
   "cell_type": "code",
   "execution_count": 119,
   "id": "3b36cf89",
   "metadata": {},
   "outputs": [
    {
     "data": {
      "text/plain": [
       "title             0\n",
       "views             0\n",
       "date_time         1\n",
       "video_link        0\n",
       "thumbnail_link    5\n",
       "dtype: int64"
      ]
     },
     "execution_count": 119,
     "metadata": {},
     "output_type": "execute_result"
    }
   ],
   "source": [
    "df.isnull().sum()"
   ]
  },
  {
   "cell_type": "code",
   "execution_count": 121,
   "id": "73885f46",
   "metadata": {},
   "outputs": [],
   "source": [
    "df.to_csv('data.csv',index = False)"
   ]
  },
  {
   "cell_type": "code",
   "execution_count": null,
   "id": "0d38f0ee",
   "metadata": {},
   "outputs": [],
   "source": []
  }
 ],
 "metadata": {
  "kernelspec": {
   "display_name": "Python 3 (ipykernel)",
   "language": "python",
   "name": "python3"
  },
  "language_info": {
   "codemirror_mode": {
    "name": "ipython",
    "version": 3
   },
   "file_extension": ".py",
   "mimetype": "text/x-python",
   "name": "python",
   "nbconvert_exporter": "python",
   "pygments_lexer": "ipython3",
   "version": "3.9.7"
  }
 },
 "nbformat": 4,
 "nbformat_minor": 5
}
