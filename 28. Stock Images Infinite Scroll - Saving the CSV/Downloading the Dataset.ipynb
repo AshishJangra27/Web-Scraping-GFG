{
 "cells": [
  {
   "cell_type": "code",
   "execution_count": 52,
   "id": "b5992c8b",
   "metadata": {
    "scrolled": true
   },
   "outputs": [
    {
     "data": {
      "text/html": [
       "<div>\n",
       "<style scoped>\n",
       "    .dataframe tbody tr th:only-of-type {\n",
       "        vertical-align: middle;\n",
       "    }\n",
       "\n",
       "    .dataframe tbody tr th {\n",
       "        vertical-align: top;\n",
       "    }\n",
       "\n",
       "    .dataframe thead th {\n",
       "        text-align: right;\n",
       "    }\n",
       "</style>\n",
       "<table border=\"1\" class=\"dataframe\">\n",
       "  <thead>\n",
       "    <tr style=\"text-align: right;\">\n",
       "      <th></th>\n",
       "      <th>img_link</th>\n",
       "      <th>tags</th>\n",
       "      <th>likes</th>\n",
       "      <th>comments</th>\n",
       "    </tr>\n",
       "  </thead>\n",
       "  <tbody>\n",
       "    <tr>\n",
       "      <th>0</th>\n",
       "      <td>https://cdn.pixabay.com/photo/2022/03/06/05/30...</td>\n",
       "      <td>Clouds, Sky, Atmosphere, Blue Sky</td>\n",
       "      <td>196</td>\n",
       "      <td>55</td>\n",
       "    </tr>\n",
       "    <tr>\n",
       "      <th>1</th>\n",
       "      <td>https://cdn.pixabay.com/photo/2022/04/07/11/45...</td>\n",
       "      <td>Bird, Ornithology, Hummingbird</td>\n",
       "      <td>76</td>\n",
       "      <td>20</td>\n",
       "    </tr>\n",
       "    <tr>\n",
       "      <th>2</th>\n",
       "      <td>https://cdn.pixabay.com/photo/2022/02/28/15/28...</td>\n",
       "      <td>Sea, Rainbow, Rainfall, Subtropical</td>\n",
       "      <td>282</td>\n",
       "      <td>106</td>\n",
       "    </tr>\n",
       "    <tr>\n",
       "      <th>3</th>\n",
       "      <td>https://cdn.pixabay.com/photo/2022/04/04/02/52...</td>\n",
       "      <td>Cherry Blossoms, Road, Japan, Sakura</td>\n",
       "      <td>42</td>\n",
       "      <td>11</td>\n",
       "    </tr>\n",
       "    <tr>\n",
       "      <th>4</th>\n",
       "      <td>https://cdn.pixabay.com/photo/2022/04/09/18/06...</td>\n",
       "      <td>Cape Marguerite, Flower, Plant</td>\n",
       "      <td>39</td>\n",
       "      <td>15</td>\n",
       "    </tr>\n",
       "  </tbody>\n",
       "</table>\n",
       "</div>"
      ],
      "text/plain": [
       "                                            img_link  \\\n",
       "0  https://cdn.pixabay.com/photo/2022/03/06/05/30...   \n",
       "1  https://cdn.pixabay.com/photo/2022/04/07/11/45...   \n",
       "2  https://cdn.pixabay.com/photo/2022/02/28/15/28...   \n",
       "3  https://cdn.pixabay.com/photo/2022/04/04/02/52...   \n",
       "4  https://cdn.pixabay.com/photo/2022/04/09/18/06...   \n",
       "\n",
       "                                   tags  likes  comments  \n",
       "0     Clouds, Sky, Atmosphere, Blue Sky    196        55  \n",
       "1        Bird, Ornithology, Hummingbird     76        20  \n",
       "2   Sea, Rainbow, Rainfall, Subtropical    282       106  \n",
       "3  Cherry Blossoms, Road, Japan, Sakura     42        11  \n",
       "4        Cape Marguerite, Flower, Plant     39        15  "
      ]
     },
     "execution_count": 52,
     "metadata": {},
     "output_type": "execute_result"
    }
   ],
   "source": [
    "import requests\n",
    "import pandas as pd\n",
    "from tqdm import tqdm\n",
    "\n",
    "df = pd.read_csv('images.csv')\n",
    "df.head()"
   ]
  },
  {
   "cell_type": "markdown",
   "id": "cac28462",
   "metadata": {},
   "source": [
    "### 1. Difining Dynamic Name"
   ]
  },
  {
   "cell_type": "code",
   "execution_count": 53,
   "id": "1e116024",
   "metadata": {
    "scrolled": true
   },
   "outputs": [
    {
     "name": "stdout",
     "output_type": "stream",
     "text": [
      "A00001\n",
      "A00002\n",
      "A00003\n",
      "A00004\n",
      "A00005\n",
      "A00006\n",
      "A00007\n",
      "A00008\n",
      "A00009\n",
      "A00010\n"
     ]
    }
   ],
   "source": [
    "ref = 100000\n",
    "for i in range(1,11):  \n",
    "    print('A' + str(i + ref)[1:])"
   ]
  },
  {
   "cell_type": "markdown",
   "id": "9c44edcf",
   "metadata": {},
   "source": [
    "### 2. Defining Image Downloader Function"
   ]
  },
  {
   "cell_type": "code",
   "execution_count": 54,
   "id": "f27a3bae",
   "metadata": {},
   "outputs": [],
   "source": [
    "def download(link, img_path ):\n",
    "\n",
    "    res = requests.get(link)         # Sending the Request\n",
    "    fd = open(img_path,'wb')         # Getting Image in WB Format\n",
    "    fd.write(res.content)            # Saving the Image\n",
    "    fd.close()"
   ]
  },
  {
   "cell_type": "markdown",
   "id": "e2c34bce",
   "metadata": {},
   "source": [
    "### 3. Downloading all Images"
   ]
  },
  {
   "cell_type": "code",
   "execution_count": 55,
   "id": "9e74d3ed",
   "metadata": {},
   "outputs": [
    {
     "name": "stderr",
     "output_type": "stream",
     "text": [
      "100%|███████████████████████████████████████| 9101/9101 [32:49<00:00,  4.62it/s]\n"
     ]
    }
   ],
   "source": [
    "paths   = []\n",
    "img_ids = []\n",
    "\n",
    "ref = 100000\n",
    "i   = 1\n",
    "\n",
    "for link in tqdm(df['img_link']):\n",
    "    \n",
    "    img_id = 'A' + str(i + ref)[1:]          # Creating Image ID\n",
    "    i += 1\n",
    "    \n",
    "    img_path = 'Imgs/' + img_id + '.jpg'    # Creating Image Path\n",
    "    \n",
    "    download(link, img_path)                # Downloading the Image\n",
    "    \n",
    "    paths.append(img_path)\n",
    "    img_ids.append(img_id)"
   ]
  },
  {
   "cell_type": "markdown",
   "id": "9932b403",
   "metadata": {},
   "source": [
    "### 4. Saving Ids and Paths in DataFrame"
   ]
  },
  {
   "cell_type": "code",
   "execution_count": 60,
   "id": "e513a9f4",
   "metadata": {},
   "outputs": [
    {
     "data": {
      "text/html": [
       "<div>\n",
       "<style scoped>\n",
       "    .dataframe tbody tr th:only-of-type {\n",
       "        vertical-align: middle;\n",
       "    }\n",
       "\n",
       "    .dataframe tbody tr th {\n",
       "        vertical-align: top;\n",
       "    }\n",
       "\n",
       "    .dataframe thead th {\n",
       "        text-align: right;\n",
       "    }\n",
       "</style>\n",
       "<table border=\"1\" class=\"dataframe\">\n",
       "  <thead>\n",
       "    <tr style=\"text-align: right;\">\n",
       "      <th></th>\n",
       "      <th>img_link</th>\n",
       "      <th>tags</th>\n",
       "      <th>likes</th>\n",
       "      <th>comments</th>\n",
       "      <th>img_id</th>\n",
       "      <th>img_path</th>\n",
       "    </tr>\n",
       "  </thead>\n",
       "  <tbody>\n",
       "    <tr>\n",
       "      <th>0</th>\n",
       "      <td>https://cdn.pixabay.com/photo/2022/03/06/05/30...</td>\n",
       "      <td>Clouds, Sky, Atmosphere, Blue Sky</td>\n",
       "      <td>196</td>\n",
       "      <td>55</td>\n",
       "      <td>A00001</td>\n",
       "      <td>Imgs/A00001.jpg</td>\n",
       "    </tr>\n",
       "    <tr>\n",
       "      <th>1</th>\n",
       "      <td>https://cdn.pixabay.com/photo/2022/04/07/11/45...</td>\n",
       "      <td>Bird, Ornithology, Hummingbird</td>\n",
       "      <td>76</td>\n",
       "      <td>20</td>\n",
       "      <td>A00002</td>\n",
       "      <td>Imgs/A00002.jpg</td>\n",
       "    </tr>\n",
       "    <tr>\n",
       "      <th>2</th>\n",
       "      <td>https://cdn.pixabay.com/photo/2022/02/28/15/28...</td>\n",
       "      <td>Sea, Rainbow, Rainfall, Subtropical</td>\n",
       "      <td>282</td>\n",
       "      <td>106</td>\n",
       "      <td>A00003</td>\n",
       "      <td>Imgs/A00003.jpg</td>\n",
       "    </tr>\n",
       "    <tr>\n",
       "      <th>3</th>\n",
       "      <td>https://cdn.pixabay.com/photo/2022/04/04/02/52...</td>\n",
       "      <td>Cherry Blossoms, Road, Japan, Sakura</td>\n",
       "      <td>42</td>\n",
       "      <td>11</td>\n",
       "      <td>A00004</td>\n",
       "      <td>Imgs/A00004.jpg</td>\n",
       "    </tr>\n",
       "    <tr>\n",
       "      <th>4</th>\n",
       "      <td>https://cdn.pixabay.com/photo/2022/04/09/18/06...</td>\n",
       "      <td>Cape Marguerite, Flower, Plant</td>\n",
       "      <td>39</td>\n",
       "      <td>15</td>\n",
       "      <td>A00005</td>\n",
       "      <td>Imgs/A00005.jpg</td>\n",
       "    </tr>\n",
       "  </tbody>\n",
       "</table>\n",
       "</div>"
      ],
      "text/plain": [
       "                                            img_link  \\\n",
       "0  https://cdn.pixabay.com/photo/2022/03/06/05/30...   \n",
       "1  https://cdn.pixabay.com/photo/2022/04/07/11/45...   \n",
       "2  https://cdn.pixabay.com/photo/2022/02/28/15/28...   \n",
       "3  https://cdn.pixabay.com/photo/2022/04/04/02/52...   \n",
       "4  https://cdn.pixabay.com/photo/2022/04/09/18/06...   \n",
       "\n",
       "                                   tags  likes  comments  img_id  \\\n",
       "0     Clouds, Sky, Atmosphere, Blue Sky    196        55  A00001   \n",
       "1        Bird, Ornithology, Hummingbird     76        20  A00002   \n",
       "2   Sea, Rainbow, Rainfall, Subtropical    282       106  A00003   \n",
       "3  Cherry Blossoms, Road, Japan, Sakura     42        11  A00004   \n",
       "4        Cape Marguerite, Flower, Plant     39        15  A00005   \n",
       "\n",
       "          img_path  \n",
       "0  Imgs/A00001.jpg  \n",
       "1  Imgs/A00002.jpg  \n",
       "2  Imgs/A00003.jpg  \n",
       "3  Imgs/A00004.jpg  \n",
       "4  Imgs/A00005.jpg  "
      ]
     },
     "execution_count": 60,
     "metadata": {},
     "output_type": "execute_result"
    }
   ],
   "source": [
    "df['img_id']   = img_ids\n",
    "df['img_path'] = paths\n",
    "\n",
    "df.head()"
   ]
  },
  {
   "cell_type": "markdown",
   "id": "15654e1b",
   "metadata": {},
   "source": [
    "### 5. Saving Final Dataset"
   ]
  },
  {
   "cell_type": "code",
   "execution_count": 61,
   "id": "93bdc483",
   "metadata": {},
   "outputs": [],
   "source": [
    "df.to_csv('imgs.csv', index = False)"
   ]
  }
 ],
 "metadata": {
  "kernelspec": {
   "display_name": "Python 3 (ipykernel)",
   "language": "python",
   "name": "python3"
  },
  "language_info": {
   "codemirror_mode": {
    "name": "ipython",
    "version": 3
   },
   "file_extension": ".py",
   "mimetype": "text/x-python",
   "name": "python",
   "nbconvert_exporter": "python",
   "pygments_lexer": "ipython3",
   "version": "3.9.7"
  }
 },
 "nbformat": 4,
 "nbformat_minor": 5
}
