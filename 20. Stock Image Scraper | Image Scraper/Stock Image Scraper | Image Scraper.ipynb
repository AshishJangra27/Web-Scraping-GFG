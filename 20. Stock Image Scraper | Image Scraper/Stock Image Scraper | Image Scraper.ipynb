{
 "cells": [
  {
   "cell_type": "code",
   "execution_count": 28,
   "id": "7ee1986b",
   "metadata": {
    "scrolled": true
   },
   "outputs": [
    {
     "data": {
      "text/html": [
       "<div>\n",
       "<style scoped>\n",
       "    .dataframe tbody tr th:only-of-type {\n",
       "        vertical-align: middle;\n",
       "    }\n",
       "\n",
       "    .dataframe tbody tr th {\n",
       "        vertical-align: top;\n",
       "    }\n",
       "\n",
       "    .dataframe thead th {\n",
       "        text-align: right;\n",
       "    }\n",
       "</style>\n",
       "<table border=\"1\" class=\"dataframe\">\n",
       "  <thead>\n",
       "    <tr style=\"text-align: right;\">\n",
       "      <th></th>\n",
       "      <th>link</th>\n",
       "      <th>tags</th>\n",
       "      <th>likes</th>\n",
       "      <th>comments</th>\n",
       "    </tr>\n",
       "  </thead>\n",
       "  <tbody>\n",
       "    <tr>\n",
       "      <th>0</th>\n",
       "      <td>https://cdn.pixabay.com/photo/2022/03/06/05/30...</td>\n",
       "      <td>Blue Atmosphere Clouds Sky</td>\n",
       "      <td>196</td>\n",
       "      <td>55</td>\n",
       "    </tr>\n",
       "    <tr>\n",
       "      <th>1</th>\n",
       "      <td>https://cdn.pixabay.com/photo/2022/04/07/11/45...</td>\n",
       "      <td>Bird Ornithology Hummingbird</td>\n",
       "      <td>76</td>\n",
       "      <td>20</td>\n",
       "    </tr>\n",
       "    <tr>\n",
       "      <th>2</th>\n",
       "      <td>https://cdn.pixabay.com/photo/2022/02/28/15/28...</td>\n",
       "      <td>Subtropical Rainfall Sea Rainbow</td>\n",
       "      <td>282</td>\n",
       "      <td>106</td>\n",
       "    </tr>\n",
       "    <tr>\n",
       "      <th>3</th>\n",
       "      <td>https://cdn.pixabay.com/photo/2022/04/04/02/52...</td>\n",
       "      <td>Cherry Road Blossoms Sakura Japan</td>\n",
       "      <td>42</td>\n",
       "      <td>11</td>\n",
       "    </tr>\n",
       "    <tr>\n",
       "      <th>4</th>\n",
       "      <td>https://cdn.pixabay.com/photo/2022/04/09/18/06...</td>\n",
       "      <td>Flower Cape Marguerite Plant</td>\n",
       "      <td>39</td>\n",
       "      <td>15</td>\n",
       "    </tr>\n",
       "  </tbody>\n",
       "</table>\n",
       "</div>"
      ],
      "text/plain": [
       "                                                link  \\\n",
       "0  https://cdn.pixabay.com/photo/2022/03/06/05/30...   \n",
       "1  https://cdn.pixabay.com/photo/2022/04/07/11/45...   \n",
       "2  https://cdn.pixabay.com/photo/2022/02/28/15/28...   \n",
       "3  https://cdn.pixabay.com/photo/2022/04/04/02/52...   \n",
       "4  https://cdn.pixabay.com/photo/2022/04/09/18/06...   \n",
       "\n",
       "                                tags  likes  comments  \n",
       "0         Blue Atmosphere Clouds Sky    196        55  \n",
       "1       Bird Ornithology Hummingbird     76        20  \n",
       "2   Subtropical Rainfall Sea Rainbow    282       106  \n",
       "3  Cherry Road Blossoms Sakura Japan     42        11  \n",
       "4       Flower Cape Marguerite Plant     39        15  "
      ]
     },
     "execution_count": 28,
     "metadata": {},
     "output_type": "execute_result"
    }
   ],
   "source": [
    "import requests\n",
    "import pandas as pd\n",
    "from tqdm import tqdm\n",
    "\n",
    "df = pd.read_csv('data.csv')\n",
    "\n",
    "df.head()"
   ]
  },
  {
   "cell_type": "markdown",
   "id": "c51e62e1",
   "metadata": {},
   "source": [
    "### 1) Downloading an Image"
   ]
  },
  {
   "cell_type": "code",
   "execution_count": 11,
   "id": "f1f0f8af",
   "metadata": {},
   "outputs": [],
   "source": [
    "link = df['link'][0]\n",
    "\n",
    "res = requests.get(link)"
   ]
  },
  {
   "cell_type": "code",
   "execution_count": 15,
   "id": "22b129f0",
   "metadata": {},
   "outputs": [],
   "source": [
    "fd = open('Img.png','wb')\n",
    "\n",
    "fd.write(res.content)\n",
    "\n",
    "fd.close()"
   ]
  },
  {
   "cell_type": "markdown",
   "id": "a4e23c56",
   "metadata": {},
   "source": [
    "### 2) Downloading all Images"
   ]
  },
  {
   "cell_type": "code",
   "execution_count": 30,
   "id": "2830ab47",
   "metadata": {},
   "outputs": [
    {
     "name": "stderr",
     "output_type": "stream",
     "text": [
      "100%|█████████████████████████████████████████| 798/798 [02:26<00:00,  5.43it/s]\n"
     ]
    }
   ],
   "source": [
    "path = []\n",
    "\n",
    "for link in tqdm(df['link']):\n",
    "    \n",
    "    res = requests.get(link)\n",
    "    \n",
    "    fd = open('Imgs/'+link.split('/')[-1],'wb')\n",
    "    fd.write(res.content)\n",
    "    fd.close()\n",
    "    \n",
    "    path.append('Imgs/'+link.split('/')[-1])"
   ]
  },
  {
   "cell_type": "code",
   "execution_count": 31,
   "id": "7f448fd3",
   "metadata": {},
   "outputs": [],
   "source": [
    "df['path'] = path"
   ]
  },
  {
   "cell_type": "code",
   "execution_count": 32,
   "id": "5291f707",
   "metadata": {},
   "outputs": [
    {
     "data": {
      "text/html": [
       "<div>\n",
       "<style scoped>\n",
       "    .dataframe tbody tr th:only-of-type {\n",
       "        vertical-align: middle;\n",
       "    }\n",
       "\n",
       "    .dataframe tbody tr th {\n",
       "        vertical-align: top;\n",
       "    }\n",
       "\n",
       "    .dataframe thead th {\n",
       "        text-align: right;\n",
       "    }\n",
       "</style>\n",
       "<table border=\"1\" class=\"dataframe\">\n",
       "  <thead>\n",
       "    <tr style=\"text-align: right;\">\n",
       "      <th></th>\n",
       "      <th>link</th>\n",
       "      <th>tags</th>\n",
       "      <th>likes</th>\n",
       "      <th>comments</th>\n",
       "      <th>path</th>\n",
       "    </tr>\n",
       "  </thead>\n",
       "  <tbody>\n",
       "    <tr>\n",
       "      <th>0</th>\n",
       "      <td>https://cdn.pixabay.com/photo/2022/03/06/05/30...</td>\n",
       "      <td>Blue Atmosphere Clouds Sky</td>\n",
       "      <td>196</td>\n",
       "      <td>55</td>\n",
       "      <td>Imgs/clouds-7050884__480.jpg</td>\n",
       "    </tr>\n",
       "    <tr>\n",
       "      <th>1</th>\n",
       "      <td>https://cdn.pixabay.com/photo/2022/04/07/11/45...</td>\n",
       "      <td>Bird Ornithology Hummingbird</td>\n",
       "      <td>76</td>\n",
       "      <td>20</td>\n",
       "      <td>Imgs/bird-7117346__340.jpg</td>\n",
       "    </tr>\n",
       "    <tr>\n",
       "      <th>2</th>\n",
       "      <td>https://cdn.pixabay.com/photo/2022/02/28/15/28...</td>\n",
       "      <td>Subtropical Rainfall Sea Rainbow</td>\n",
       "      <td>282</td>\n",
       "      <td>106</td>\n",
       "      <td>Imgs/sea-7039471__340.jpg</td>\n",
       "    </tr>\n",
       "    <tr>\n",
       "      <th>3</th>\n",
       "      <td>https://cdn.pixabay.com/photo/2022/04/04/02/52...</td>\n",
       "      <td>Cherry Road Blossoms Sakura Japan</td>\n",
       "      <td>42</td>\n",
       "      <td>11</td>\n",
       "      <td>Imgs/cherry-blossoms-7110279__340.jpg</td>\n",
       "    </tr>\n",
       "    <tr>\n",
       "      <th>4</th>\n",
       "      <td>https://cdn.pixabay.com/photo/2022/04/09/18/06...</td>\n",
       "      <td>Flower Cape Marguerite Plant</td>\n",
       "      <td>39</td>\n",
       "      <td>15</td>\n",
       "      <td>Imgs/cape-marguerite-7121992__340.jpg</td>\n",
       "    </tr>\n",
       "  </tbody>\n",
       "</table>\n",
       "</div>"
      ],
      "text/plain": [
       "                                                link  \\\n",
       "0  https://cdn.pixabay.com/photo/2022/03/06/05/30...   \n",
       "1  https://cdn.pixabay.com/photo/2022/04/07/11/45...   \n",
       "2  https://cdn.pixabay.com/photo/2022/02/28/15/28...   \n",
       "3  https://cdn.pixabay.com/photo/2022/04/04/02/52...   \n",
       "4  https://cdn.pixabay.com/photo/2022/04/09/18/06...   \n",
       "\n",
       "                                tags  likes  comments  \\\n",
       "0         Blue Atmosphere Clouds Sky    196        55   \n",
       "1       Bird Ornithology Hummingbird     76        20   \n",
       "2   Subtropical Rainfall Sea Rainbow    282       106   \n",
       "3  Cherry Road Blossoms Sakura Japan     42        11   \n",
       "4       Flower Cape Marguerite Plant     39        15   \n",
       "\n",
       "                                    path  \n",
       "0           Imgs/clouds-7050884__480.jpg  \n",
       "1             Imgs/bird-7117346__340.jpg  \n",
       "2              Imgs/sea-7039471__340.jpg  \n",
       "3  Imgs/cherry-blossoms-7110279__340.jpg  \n",
       "4  Imgs/cape-marguerite-7121992__340.jpg  "
      ]
     },
     "execution_count": 32,
     "metadata": {},
     "output_type": "execute_result"
    }
   ],
   "source": [
    "df.head()"
   ]
  },
  {
   "cell_type": "code",
   "execution_count": 33,
   "id": "06b5a466",
   "metadata": {},
   "outputs": [],
   "source": [
    "df.to_csv('Imgs.csv', index = False)"
   ]
  },
  {
   "cell_type": "code",
   "execution_count": null,
   "id": "7cf9eff1",
   "metadata": {},
   "outputs": [],
   "source": []
  }
 ],
 "metadata": {
  "kernelspec": {
   "display_name": "Python 3 (ipykernel)",
   "language": "python",
   "name": "python3"
  },
  "language_info": {
   "codemirror_mode": {
    "name": "ipython",
    "version": 3
   },
   "file_extension": ".py",
   "mimetype": "text/x-python",
   "name": "python",
   "nbconvert_exporter": "python",
   "pygments_lexer": "ipython3",
   "version": "3.9.7"
  }
 },
 "nbformat": 4,
 "nbformat_minor": 5
}
