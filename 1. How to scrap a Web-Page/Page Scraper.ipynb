{
 "cells": [
  {
   "cell_type": "code",
   "execution_count": 3,
   "id": "906666de",
   "metadata": {},
   "outputs": [],
   "source": [
    "import requests"
   ]
  },
  {
   "cell_type": "code",
   "execution_count": 1,
   "id": "96807b5c",
   "metadata": {},
   "outputs": [],
   "source": [
    "link = 'http://quotes.toscrape.com/'"
   ]
  },
  {
   "cell_type": "code",
   "execution_count": 5,
   "id": "9b4757f3",
   "metadata": {},
   "outputs": [],
   "source": [
    "res = requests.get(link)"
   ]
  },
  {
   "cell_type": "code",
   "execution_count": 10,
   "id": "27b7b109",
   "metadata": {},
   "outputs": [],
   "source": [
    "html = res.text"
   ]
  },
  {
   "cell_type": "code",
   "execution_count": 14,
   "id": "6ce0bfe5",
   "metadata": {},
   "outputs": [],
   "source": [
    "fd = open('main.html','w')\n",
    "fd.write(html)\n",
    "fd.close()"
   ]
  }
 ],
 "metadata": {
  "kernelspec": {
   "display_name": "Python 3 (ipykernel)",
   "language": "python",
   "name": "python3"
  },
  "language_info": {
   "codemirror_mode": {
    "name": "ipython",
    "version": 3
   },
   "file_extension": ".py",
   "mimetype": "text/x-python",
   "name": "python",
   "nbconvert_exporter": "python",
   "pygments_lexer": "ipython3",
   "version": "3.9.7"
  }
 },
 "nbformat": 4,
 "nbformat_minor": 5
}
